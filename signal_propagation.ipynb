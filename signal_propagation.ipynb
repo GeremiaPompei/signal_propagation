{
 "cells": [
  {
   "cell_type": "code",
   "execution_count": 1,
   "metadata": {},
   "outputs": [],
   "source": [
    "from src.loader.mnist_loader import load_mnist\n",
    "from src.model.vgg import vgg8b\n",
    "from src.trainer.backpropagation import train_backpropagation\n",
    "from src.trainer.sigprop import train_sigprop\n",
    "from src.utils.select_device import select_device\n",
    "from src.eval.accuracy_evaluation import accuracy_evaluate"
   ]
  },
  {
   "cell_type": "code",
   "execution_count": 2,
   "outputs": [
    {
     "data": {
      "text/plain": "'cpu'"
     },
     "execution_count": 2,
     "metadata": {},
     "output_type": "execute_result"
    }
   ],
   "source": [
    "device = select_device()\n",
    "\n",
    "device"
   ],
   "metadata": {
    "collapsed": false
   }
  },
  {
   "cell_type": "code",
   "execution_count": 3,
   "metadata": {},
   "outputs": [
    {
     "name": "stderr",
     "output_type": "stream",
     "text": [
      "/Users/geremiapompei/Library/CloudStorage/OneDrive-UniversityofPisa/UNIPI/2_anno_2022_2023/2_semestre/computational neuroscience/exam/signal_propagation/.venv/lib/python3.11/site-packages/torchvision/datasets/mnist.py:75: UserWarning: train_data has been renamed data\n",
      "  warnings.warn(\"train_data has been renamed data\")\n",
      "/Users/geremiapompei/Library/CloudStorage/OneDrive-UniversityofPisa/UNIPI/2_anno_2022_2023/2_semestre/computational neuroscience/exam/signal_propagation/.venv/lib/python3.11/site-packages/torchvision/datasets/mnist.py:65: UserWarning: train_labels has been renamed targets\n",
      "  warnings.warn(\"train_labels has been renamed targets\")\n",
      "/Users/geremiapompei/Library/CloudStorage/OneDrive-UniversityofPisa/UNIPI/2_anno_2022_2023/2_semestre/computational neuroscience/exam/signal_propagation/.venv/lib/python3.11/site-packages/torchvision/datasets/mnist.py:80: UserWarning: test_data has been renamed data\n",
      "  warnings.warn(\"test_data has been renamed data\")\n",
      "/Users/geremiapompei/Library/CloudStorage/OneDrive-UniversityofPisa/UNIPI/2_anno_2022_2023/2_semestre/computational neuroscience/exam/signal_propagation/.venv/lib/python3.11/site-packages/torchvision/datasets/mnist.py:70: UserWarning: test_labels has been renamed targets\n",
      "  warnings.warn(\"test_labels has been renamed targets\")\n"
     ]
    },
    {
     "data": {
      "text/plain": "(torch.Size([60000, 1, 28, 28]),\n torch.Size([60000, 10]),\n torch.Size([10000, 1, 28, 28]),\n torch.Size([10000, 10]))"
     },
     "execution_count": 3,
     "metadata": {},
     "output_type": "execute_result"
    }
   ],
   "source": [
    "TR_X_mnist, TR_Y_mnist, TS_X_mnist, TS_Y_mnist = load_mnist(device=device)\n",
    "TR_SET = (TR_X_mnist, TR_Y_mnist)\n",
    "TS_SET = (TS_X_mnist, TS_Y_mnist)\n",
    "\n",
    "TR_X_mnist.shape, TR_Y_mnist.shape, TS_X_mnist.shape, TS_Y_mnist.shape"
   ]
  },
  {
   "cell_type": "code",
   "execution_count": null,
   "outputs": [
    {
     "data": {
      "text/plain": "  0%|          | 0/469 [00:00<?, ?it/s]",
      "application/vnd.jupyter.widget-view+json": {
       "version_major": 2,
       "version_minor": 0,
       "model_id": "65ee0534699740d393350fcedf702a04"
      }
     },
     "metadata": {},
     "output_type": "display_data"
    }
   ],
   "source": [
    "model = vgg8b(num_classes=10).to(device)\n",
    "\n",
    "train_sigprop(model, TR_SET, epochs=2, device=device, callback=lambda: accuracy_evaluate(model, TS_SET))"
   ],
   "metadata": {
    "collapsed": false
   }
  },
  {
   "cell_type": "code",
   "execution_count": null,
   "outputs": [],
   "source": [
    "model = vgg8b(num_classes=10).to(device)\n",
    "\n",
    "train_backpropagation(model, TR_SET, epochs=2, device=device, callback=lambda: accuracy_evaluate(model, TS_SET))"
   ],
   "metadata": {
    "collapsed": false
   }
  }
 ],
 "metadata": {
  "kernelspec": {
   "display_name": ".venv",
   "language": "python",
   "name": "python3"
  },
  "language_info": {
   "codemirror_mode": {
    "name": "ipython",
    "version": 3
   },
   "file_extension": ".py",
   "mimetype": "text/x-python",
   "name": "python",
   "nbconvert_exporter": "python",
   "pygments_lexer": "ipython3",
   "version": "3.11.1"
  },
  "orig_nbformat": 4
 },
 "nbformat": 4,
 "nbformat_minor": 2
}
